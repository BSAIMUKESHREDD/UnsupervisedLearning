{
  "nbformat": 4,
  "nbformat_minor": 0,
  "metadata": {
    "colab": {
      "provenance": []
    },
    "kernelspec": {
      "name": "python3",
      "display_name": "Python 3"
    },
    "language_info": {
      "name": "python"
    }
  },
  "cells": [
    {
      "cell_type": "code",
      "execution_count": null,
      "metadata": {
        "id": "fZnHiXuAdHDE"
      },
      "outputs": [],
      "source": [
        "# Import Required Libraries\n",
        "import pandas as pd\n",
        "import numpy as np\n",
        "from sklearn.cluster import KMeans\n",
        "from sklearn.preprocessing import StandardScaler\n",
        "from sklearn import datasets\n",
        "import matplotlib.pyplot as plt\n",
        "import seaborn as sns\n"
      ]
    },
    {
      "cell_type": "code",
      "source": [
        "# Task 1: Download the Dataset\n",
        "\n",
        "!wget -O iris.csv https://archive.ics.uci.edu/ml/machine-learning-databases/iris/iris.data\n",
        "print(iris.head())"
      ],
      "metadata": {
        "id": "fwaDrwG8duiC"
      },
      "execution_count": null,
      "outputs": []
    },
    {
      "cell_type": "code",
      "source": [
        "# Task 2: Load the Dataset\n",
        "printmd('**Task 2: Load the data into a DataFrame**')\n",
        "# The dataset does not include column names, we need to specify it\n",
        "column_names = ['sepal_length', 'sepal_width', 'petal_length', 'petal_width', 'class']\n",
        "iris = pd.read_csv('iris.csv', names=column_names)\n",
        "\n",
        "print(iris.head())"
      ],
      "metadata": {
        "id": "lcxzHIkIdv24"
      },
      "execution_count": null,
      "outputs": []
    },
    {
      "cell_type": "code",
      "source": [
        "# Task 3: Data Preprocessing\n",
        "printmd('**Task 3: Preprocess the data**')\n",
        "# Extract features\n",
        "features = iris[['sepal_length', 'sepal_width', 'petal_length', 'petal_width']]\n",
        "# Scale features\n",
        "scaler = StandardScaler()\n",
        "scaled_features = scaler.fit_transform(features)\n"
      ],
      "metadata": {
        "id": "fSiLsbipdwdr"
      },
      "execution_count": null,
      "outputs": []
    },
    {
      "cell_type": "code",
      "source": [
        "# Task 4: K-Means Clustering\n",
        "printmd('**Task 4: Apply K-Means Clustering**')\n",
        "# Implement K-Means\n",
        "kmeans = KMeans(n_clusters=3, random_state=42)\n",
        "clusters = kmeans.fit_predict(scaled_features)\n",
        "iris['Cluster'] = clusters"
      ],
      "metadata": {
        "id": "7z2VDbNGdwqj"
      },
      "execution_count": null,
      "outputs": []
    },
    {
      "cell_type": "code",
      "source": [
        "# Task 5: Visualization\n",
        "printmd('**Task 5: Visualize the clusters**')\n",
        "plt.figure(figsize=(12, 6))\n",
        "sns.scatterplot(x='sepal_length', y='sepal_width', hue='Cluster', data=iris, palette='viridis', style='class', markers=['o', 's', 'D'])\n",
        "plt.title('K-Means Clustering of Iris Dataset')\n",
        "plt.show()"
      ],
      "metadata": {
        "id": "ynEHf1rNd4JQ"
      },
      "execution_count": null,
      "outputs": []
    },
    {
      "cell_type": "code",
      "source": [
        "# Task 6: Evaluation (To be completed by students)\n",
        "printmd('**Task 6: Evaluate the clustering performance**')\n",
        "# Students will write their evaluation metrics here\n",
        "# Placeholder for student's code (they might calculate silhouette score or compare the clusters with the actual labels if this were a semi-supervised learning scenario)\n",
        "\n"
      ],
      "metadata": {
        "id": "_hzUNOHld6GW"
      },
      "execution_count": null,
      "outputs": []
    }
  ]
}